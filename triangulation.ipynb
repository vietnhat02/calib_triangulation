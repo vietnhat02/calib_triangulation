{
 "cells": [
  {
   "cell_type": "code",
   "execution_count": 9,
   "metadata": {},
   "outputs": [],
   "source": [
    "import cv2\n",
    "import numpy as np\n",
    "import yaml"
   ]
  },
  {
   "cell_type": "code",
   "execution_count": 10,
   "metadata": {},
   "outputs": [],
   "source": [
    "max_matches=100\n",
    "path='cam1.yaml'"
   ]
  },
  {
   "cell_type": "code",
   "execution_count": 11,
   "metadata": {},
   "outputs": [],
   "source": [
    "# load camera intrinsics\n",
    "with open(path, 'r') as f:\n",
    "    data = yaml.safe_load(f)\n",
    "    K = np.array(data['camera_matrix']).reshape(3, 3)\n",
    "    dist_coeffs = np.array(data['dist_coeff']).reshape(-1, 1)\n",
    "# Load images\n",
    "img1 = cv2.imread('left_image.jpg')\n",
    "img2 = cv2.imread('right_image.jpg')"
   ]
  },
  {
   "cell_type": "code",
   "execution_count": 12,
   "metadata": {},
   "outputs": [
    {
     "name": "stdout",
     "output_type": "stream",
     "text": [
      "Camera Matrix:\n",
      " [[901.44204508   0.         627.54480678]\n",
      " [  0.         904.66861291 379.96878104]\n",
      " [  0.           0.           1.        ]]\n",
      "Distortion Coefficients: [[ 2.90064547e-01 -1.34251639e+00 -1.08082547e-03 -1.91922978e-03\n",
      "   2.35356175e+00]]\n"
     ]
    }
   ],
   "source": [
    "print(\"Camera Matrix:\\n\", K)\n",
    "print(\"Distortion Coefficients:\", dist_coeffs.T)"
   ]
  },
  {
   "cell_type": "code",
   "execution_count": 13,
   "metadata": {},
   "outputs": [],
   "source": [
    "# find and match features\n",
    "orb = cv2.ORB_create()\n",
    "kp1, des1 = orb.detectAndCompute(img1, None)\n",
    "kp2, des2 = orb.detectAndCompute(img2, None)\n",
    "\n",
    "bf = cv2.BFMatcher(cv2.NORM_HAMMING, crossCheck=True)\n",
    "matches = bf.match(des1, des2)\n",
    "matches = sorted(matches, key=lambda x: x.distance)\n",
    "\n",
    "# Get all matches first\n",
    "pts1 = np.float32([kp1[m.queryIdx].pt for m in matches])\n",
    "pts2 = np.float32([kp2[m.trainIdx].pt for m in matches])\n",
    "\n",
    "# Calculate Fundamental matrix and find inliers\n",
    "F, mask = cv2.findFundamentalMat(pts1, pts2, cv2.FM_RANSAC)\n",
    "\n",
    "# Select inliers\n",
    "inliers_mask = mask.ravel() == 1\n",
    "pts1_inliers = pts1[inliers_mask]\n",
    "pts2_inliers = pts2[inliers_mask]\n",
    "matches_inliers = [m for i, m in enumerate(matches) if inliers_mask[i]]\n",
    "\n",
    "# Limit the number of matches if necessary\n",
    "if len(matches_inliers) > max_matches:\n",
    "    good_matches = matches_inliers[:max_matches]\n",
    "    pts1_inliers = pts1_inliers[:max_matches]\n",
    "    pts2_inliers = pts2_inliers[:max_matches]\n",
    "\n",
    "# return kp1, kp2, pts1_inliers, pts2_inliers, matches_inliers, len(inliers_mask), np.sum(inliers_mask)"
   ]
  },
  {
   "cell_type": "code",
   "execution_count": 4,
   "metadata": {},
   "outputs": [
    {
     "name": "stdout",
     "output_type": "stream",
     "text": [
      "Total matches: 161\n",
      "Inliers count: 111\n"
     ]
    }
   ],
   "source": [
    "print(f\"Total matches: {total_matches}\")\n",
    "print(f\"Inliers count: {inliers_count}\")\n",
    "\n"
   ]
  },
  {
   "cell_type": "code",
   "execution_count": 14,
   "metadata": {},
   "outputs": [],
   "source": [
    "# Visualize matched points\n",
    "img3 = cv2.drawMatches(img1, kp1, img2, kp2, good_matches, None, flags=2)\n",
    "cv2.imshow(\"Matched Features\", img3)\n",
    "cv2.waitKey(0)\n",
    "cv2.destroyAllWindows()"
   ]
  },
  {
   "cell_type": "code",
   "execution_count": 6,
   "metadata": {},
   "outputs": [],
   "source": [
    "def calculate_3D_point(img1_points, img2_points, K, baseline):\n",
    "    R = np.eye(3)\n",
    "    T = np.array([[baseline, 0, 0]]).T\n",
    "    \n",
    "    P1 = np.hstack((K, np.zeros((3, 1))))\n",
    "    P2 = K @ np.hstack((R, T))\n",
    "    \n",
    "    points_4D_hom = cv2.triangulatePoints(P1, P2, img1_points.T, img2_points.T)\n",
    "    \n",
    "    # Check if triangulation was successful\n",
    "    if np.any(points_4D_hom[3] == 0):\n",
    "        valid_mask = points_4D_hom[3] != 0\n",
    "        points_4D_hom = points_4D_hom[:, valid_mask]\n",
    "        \n",
    "    points_3D = points_4D_hom[:3] / points_4D_hom[3]\n",
    "    return points_3D.T"
   ]
  },
  {
   "cell_type": "code",
   "execution_count": 11,
   "metadata": {},
   "outputs": [
    {
     "name": "stdout",
     "output_type": "stream",
     "text": [
      "Distance to object: 40.38 cm\n",
      "Min distance: 38.91 cm\n",
      "Max distance: 45.66 cm\n"
     ]
    }
   ],
   "source": [
    "baseline = 13.1  # cm\n",
    "points_3D = calculate_3D_point(pts1, pts2, K, baseline)\n",
    "distances = np.linalg.norm(points_3D, axis=1)\n",
    "\n",
    "print(f\"Distance to object: {np.mean(distances):.2f} cm\")\n",
    "print(f\"Min distance: {np.min(distances):.2f} cm\")\n",
    "print(f\"Max distance: {np.max(distances):.2f} cm\")\n",
    "\n",
    "\n"
   ]
  }
 ],
 "metadata": {
  "kernelspec": {
   "display_name": "Python 3.10.6 64-bit",
   "language": "python",
   "name": "python3"
  },
  "language_info": {
   "codemirror_mode": {
    "name": "ipython",
    "version": 3
   },
   "file_extension": ".py",
   "mimetype": "text/x-python",
   "name": "python",
   "nbconvert_exporter": "python",
   "pygments_lexer": "ipython3",
   "version": "3.10.6"
  },
  "orig_nbformat": 4,
  "vscode": {
   "interpreter": {
    "hash": "26de051ba29f2982a8de78e945f0abaf191376122a1563185a90213a26c5da77"
   }
  }
 },
 "nbformat": 4,
 "nbformat_minor": 2
}
