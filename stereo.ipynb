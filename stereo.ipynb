{
 "cells": [
  {
   "cell_type": "code",
   "execution_count": 21,
   "metadata": {},
   "outputs": [],
   "source": [
    "import cv2\n",
    "import numpy as np\n",
    "import yaml\n",
    "\n",
    "# Bước 1: Đọc file nội tại camera từ cam1.yaml\n",
    "def load_camera_intrinsics(file_path):\n",
    "    with open(file_path) as f:\n",
    "        data = yaml.safe_load(f)\n",
    "        camera_matrix = np.array(data['camera_matrix']).reshape(3, 3)\n",
    "        dist_coeffs = np.array(data['dist_coeff']).reshape(-1, 1)\n",
    "    return camera_matrix, dist_coeffs\n",
    "\n",
    "# Bước 2: Đọc hình ảnh từ camera\n",
    "img1 = cv2.imread('left_image.jpg')  # Ảnh từ camera trái\n",
    "img2 = cv2.imread('right_image.jpg')  # Ảnh từ camera phải\n",
    "\n"
   ]
  },
  {
   "cell_type": "code",
   "execution_count": 22,
   "metadata": {},
   "outputs": [],
   "source": [
    "\n",
    "# Load camera intrinsics\n",
    "camera_matrix, dist_coeffs = load_camera_intrinsics('cam1.yaml')\n",
    "\n",
    "# Load camera intrinsics\n",
    "# camera_matrix, dist_coeffs = load_camera_intrinsics('calibration.yaml')\n",
    "\n",
    "\n"
   ]
  },
  {
   "cell_type": "code",
   "execution_count": 23,
   "metadata": {},
   "outputs": [],
   "source": [
    "# Bước 3: Tìm điểm đặc trưng (sử dụng ORB)\n",
    "orb = cv2.ORB_create()\n",
    "kp1, des1 = orb.detectAndCompute(img1, None)\n",
    "kp2, des2 = orb.detectAndCompute(img2, None)\n",
    "# Bước 4: Đối sánh điểm đặc trưng\n",
    "bf = cv2.BFMatcher(cv2.NORM_HAMMING, crossCheck=True)\n",
    "matches = bf.match(des1, des2)\n",
    "matches = sorted(matches, key=lambda x: x.distance)\n",
    "matchespoint= matches.copy()\n",
    "matche=matchespoint[:30]\n",
    "# Bước 5: Lấy các điểm đối sánh\n",
    "pts1 = np.float32([kp1[m.queryIdx].pt for m in matche])\n",
    "pts2 = np.float32([kp2[m.trainIdx].pt for m in matche])\n",
    "# Bước 6: Tính ma trận F (Fundamental matrix) và ma trận E (Essential matrix)\n",
    "F, mask = cv2.findFundamentalMat(pts1, pts2, cv2.FM_RANSAC)\n",
    "E = camera_matrix.T @ F @ camera_matrix  # Essential matrix\n",
    "# Bước 7: Tính R và T từ ma trận E\n",
    "_, R, T, _ = cv2.recoverPose(E, pts1, pts2, camera_matrix)\n",
    "baseline = 0.131  # Đơn vị: mét (cần phải biết chính xác khoảng cách này)"
   ]
  },
  {
   "cell_type": "code",
   "execution_count": 24,
   "metadata": {},
   "outputs": [],
   "source": [
    "# Vẽ các điểm đối sánh\n",
    "matched_img = cv2.drawMatches(img1, kp1, img2, kp2, matche, None, flags=cv2.DrawMatchesFlags_NOT_DRAW_SINGLE_POINTS)\n",
    "cv2.imshow('Matches', matched_img)\n",
    "cv2.waitKey(0)\n",
    "cv2.destroyAllWindows()"
   ]
  },
  {
   "cell_type": "code",
   "execution_count": 25,
   "metadata": {},
   "outputs": [
    {
     "name": "stdout",
     "output_type": "stream",
     "text": [
      "Khoảng cách tới vật thể: 0.3943174640337626 mét\n"
     ]
    }
   ],
   "source": [
    "# Bước 6: Tính ma trận F (Fundamental matrix) và ma trận E (Essential matrix)\n",
    "F, mask = cv2.findFundamentalMat(pts1, pts2, cv2.FM_RANSAC)\n",
    "E = camera_matrix.T @ F @ camera_matrix  # Essential matrix\n",
    "# Bước 7: Tính R và T từ ma trận E\n",
    "_, R, T, _ = cv2.recoverPose(E, pts1, pts2, camera_matrix)\n",
    "baseline = 0.131  # Đơn vị: mét (cần phải biết chính xác khoảng cách này)\n",
    "# Tính disparity\n",
    "disparities = np.abs(pts1[:, 0] - pts2[:, 0])  # Sự chênh lệch tọa độ x giữa hai ảnh\n",
    "\n",
    "# Tính khoảng cách Z (Z = f * B / disparity)\n",
    "focal_length = camera_matrix[0, 0]  # Tiêu cự từ camera intrinsics\n",
    "depths = (focal_length * baseline) / disparities  # Tính khoảng cách\n",
    "\n",
    "\n",
    "print(f\"Khoảng cách tới vật thể: {sum(depths)/len(depths)} mét\")\n"
   ]
  }
 ],
 "metadata": {
  "kernelspec": {
   "display_name": "Python 3.10.6 64-bit",
   "language": "python",
   "name": "python3"
  },
  "language_info": {
   "codemirror_mode": {
    "name": "ipython",
    "version": 3
   },
   "file_extension": ".py",
   "mimetype": "text/x-python",
   "name": "python",
   "nbconvert_exporter": "python",
   "pygments_lexer": "ipython3",
   "version": "3.10.6"
  },
  "orig_nbformat": 4,
  "vscode": {
   "interpreter": {
    "hash": "26de051ba29f2982a8de78e945f0abaf191376122a1563185a90213a26c5da77"
   }
  }
 },
 "nbformat": 4,
 "nbformat_minor": 2
}
